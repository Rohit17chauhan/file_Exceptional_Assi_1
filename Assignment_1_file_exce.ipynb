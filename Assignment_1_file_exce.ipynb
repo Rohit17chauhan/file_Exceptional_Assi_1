{
 "cells": [
  {
   "cell_type": "code",
   "execution_count": 1,
   "id": "ea1e9012-dbc0-4d15-9546-61ac962f6b62",
   "metadata": {},
   "outputs": [
    {
     "data": {
      "text/plain": [
       "'Q1. what is an exception in python ? write the difference between Exception and synatx error '"
      ]
     },
     "execution_count": 1,
     "metadata": {},
     "output_type": "execute_result"
    }
   ],
   "source": [
    "\"\"\"Q1. what is an exception in python ? write the difference between Exception and synatx error \"\"\""
   ]
  },
  {
   "cell_type": "code",
   "execution_count": 3,
   "id": "b72723e7-a89e-4f5d-8ee7-4c27aec626bd",
   "metadata": {},
   "outputs": [
    {
     "data": {
      "text/plain": [
       "'Ans_1:'"
      ]
     },
     "execution_count": 3,
     "metadata": {},
     "output_type": "execute_result"
    }
   ],
   "source": [
    "\"\"\"Ans_1:\"\"\""
   ]
  },
  {
   "cell_type": "code",
   "execution_count": 5,
   "id": "7aaad432-8c93-4f6c-bce5-2cc391cfa58c",
   "metadata": {},
   "outputs": [],
   "source": [
    "ans=\"In Python, an exception is an event that occurs during the execution of a program that disrupts the normal flow of the program's instructions. When an exception occurs, Python raises an exception object, which contains information about the error, such as its type and a description.\""
   ]
  },
  {
   "cell_type": "code",
   "execution_count": 6,
   "id": "6227b877-d298-4976-8b13-4786ad5618ae",
   "metadata": {},
   "outputs": [
    {
     "data": {
      "text/plain": [
       "\"In Python, an exception is an event that occurs during the execution of a program that disrupts the normal flow of the program's instructions. When an exception occurs, Python raises an exception object, which contains information about the error, such as its type and a description.\""
      ]
     },
     "execution_count": 6,
     "metadata": {},
     "output_type": "execute_result"
    }
   ],
   "source": [
    "ans"
   ]
  },
  {
   "cell_type": "code",
   "execution_count": 11,
   "id": "a2715f4d-443b-4816-b288-c7f5eaba86a5",
   "metadata": {},
   "outputs": [],
   "source": [
    "Exception_error =\"An exception is a runtime error that occurs during the execution of a program.,Exceptions are raised when something unexpected happens, such as attempting to divide by zero, accessing a non-existent variable, or opening a file that doesn't exist,Examples of exceptions include ZeroDivisionError, TypeError, ValueError, FileNotFoundError, and many others.\""
   ]
  },
  {
   "cell_type": "code",
   "execution_count": 12,
   "id": "eb463555-1e27-40e4-96eb-65f339244ec9",
   "metadata": {},
   "outputs": [
    {
     "data": {
      "text/plain": [
       "\"An exception is a runtime error that occurs during the execution of a program.,Exceptions are raised when something unexpected happens, such as attempting to divide by zero, accessing a non-existent variable, or opening a file that doesn't exist,Examples of exceptions include ZeroDivisionError, TypeError, ValueError, FileNotFoundError, and many others.\""
      ]
     },
     "execution_count": 12,
     "metadata": {},
     "output_type": "execute_result"
    }
   ],
   "source": [
    "Exception_error"
   ]
  },
  {
   "cell_type": "code",
   "execution_count": 13,
   "id": "4c2587b9-e09f-4d76-b932-e03349349194",
   "metadata": {},
   "outputs": [],
   "source": [
    "syntax_error = \"A SyntaxError is a type of error that occurs during the parsing of Python code, before the program is executed.,Syntax errors occur when the code violates the rules of the Python language, such as using incorrect syntax, missing colons, or mismatched parentheses.,xamples of syntax errors include missing indentation, using an undefined variable, or forgetting to close a parenthesis.\""
   ]
  },
  {
   "cell_type": "code",
   "execution_count": 14,
   "id": "fb4f7d4a-5f2d-4464-b034-4a4797d27023",
   "metadata": {},
   "outputs": [
    {
     "data": {
      "text/plain": [
       "'A SyntaxError is a type of error that occurs during the parsing of Python code, before the program is executed.,Syntax errors occur when the code violates the rules of the Python language, such as using incorrect syntax, missing colons, or mismatched parentheses.,xamples of syntax errors include missing indentation, using an undefined variable, or forgetting to close a parenthesis.'"
      ]
     },
     "execution_count": 14,
     "metadata": {},
     "output_type": "execute_result"
    }
   ],
   "source": [
    "syntax_error"
   ]
  },
  {
   "cell_type": "code",
   "execution_count": 15,
   "id": "06c08bba-31fe-43bb-97f3-055981afbe2a",
   "metadata": {},
   "outputs": [
    {
     "data": {
      "text/plain": [
       "'Q2. What happen when an exception is not handle? explain with example '"
      ]
     },
     "execution_count": 15,
     "metadata": {},
     "output_type": "execute_result"
    }
   ],
   "source": [
    "\"\"\"Q2. What happen when an exception is not handle? explain with example \"\"\""
   ]
  },
  {
   "cell_type": "code",
   "execution_count": 16,
   "id": "fc52c048-1671-4d49-a68b-4baa1817b421",
   "metadata": {},
   "outputs": [],
   "source": [
    "ans_2=\"when exception is not handle then we use a try function to handle the exception , or we put the program in try function\""
   ]
  },
  {
   "cell_type": "code",
   "execution_count": 17,
   "id": "8ab708d3-4ec3-4efd-bbd9-a1421efbb50a",
   "metadata": {},
   "outputs": [
    {
     "data": {
      "text/plain": [
       "'when exception is not handle then we use a try function to handle the exception , or we put the program in try function'"
      ]
     },
     "execution_count": 17,
     "metadata": {},
     "output_type": "execute_result"
    }
   ],
   "source": [
    "ans_2"
   ]
  },
  {
   "cell_type": "code",
   "execution_count": 21,
   "id": "9f334c70-a718-47b6-b027-791f5441f892",
   "metadata": {},
   "outputs": [
    {
     "name": "stdout",
     "output_type": "stream",
     "text": [
      "this is my exception \n"
     ]
    }
   ],
   "source": [
    "try:\n",
    "    file=(\"file.txt\",\"r\")\n",
    "    print(\"this is my exception \")\n",
    "except Exception as e:\n",
    "          print(e)"
   ]
  },
  {
   "cell_type": "code",
   "execution_count": 23,
   "id": "744989f3-1969-484d-afaa-0ab2400a8a85",
   "metadata": {},
   "outputs": [
    {
     "data": {
      "text/plain": [
       "' Q3. which python statement are used to catch and handle exceptions ? Explain with example '"
      ]
     },
     "execution_count": 23,
     "metadata": {},
     "output_type": "execute_result"
    }
   ],
   "source": [
    "\"\"\" Q3. which python statement are used to catch and handle exceptions ? Explain with example \"\"\""
   ]
  },
  {
   "cell_type": "code",
   "execution_count": 24,
   "id": "a30a2903-70bc-435c-b370-08207755728a",
   "metadata": {},
   "outputs": [
    {
     "data": {
      "text/plain": [
       "' try statement are used to catch exception and except are used to handle the exception '"
      ]
     },
     "execution_count": 24,
     "metadata": {},
     "output_type": "execute_result"
    }
   ],
   "source": [
    "Ans_3=\" try statement are used to catch exception and except are used to handle the exception \"\n",
    "Ans_3"
   ]
  },
  {
   "cell_type": "code",
   "execution_count": 25,
   "id": "2e48a8f9-5acc-48c1-9008-2bf91c534cf1",
   "metadata": {},
   "outputs": [
    {
     "data": {
      "text/plain": [
       "' example_3'"
      ]
     },
     "execution_count": 25,
     "metadata": {},
     "output_type": "execute_result"
    }
   ],
   "source": [
    "\"\"\" example_3\"\"\""
   ]
  },
  {
   "cell_type": "code",
   "execution_count": 26,
   "id": "d8377888-17c5-4f71-a2f4-7de4161e8f0c",
   "metadata": {},
   "outputs": [
    {
     "name": "stdout",
     "output_type": "stream",
     "text": [
      "division by zero\n"
     ]
    }
   ],
   "source": [
    "try:\n",
    "    10/0\n",
    "except ZeroDivisionError as e:\n",
    "    print(e)"
   ]
  },
  {
   "cell_type": "code",
   "execution_count": 27,
   "id": "8c7f16a2-1251-4b84-99a4-cca41f745292",
   "metadata": {},
   "outputs": [
    {
     "data": {
      "text/plain": [
       "' Q4.Expalin with an example:\\n    a.try and else \\n    b.finally\\n    c.raise '"
      ]
     },
     "execution_count": 27,
     "metadata": {},
     "output_type": "execute_result"
    }
   ],
   "source": [
    "\"\"\" Q4.Expalin with an example:\n",
    "    a.try and else \n",
    "    b.finally\n",
    "    c.raise \"\"\""
   ]
  },
  {
   "cell_type": "code",
   "execution_count": 28,
   "id": "49704ae4-7e60-42b2-9cb9-01153110f8b1",
   "metadata": {},
   "outputs": [],
   "source": [
    "try_and_else= \" esle will execute when my try statement will executed sucessfully \""
   ]
  },
  {
   "cell_type": "code",
   "execution_count": 29,
   "id": "71b26782-f150-47b6-bb81-0e70c7b530bb",
   "metadata": {},
   "outputs": [
    {
     "data": {
      "text/plain": [
       "' esle will execute when my try statement will executed sucessfully '"
      ]
     },
     "execution_count": 29,
     "metadata": {},
     "output_type": "execute_result"
    }
   ],
   "source": [
    "try_and_else"
   ]
  },
  {
   "cell_type": "code",
   "execution_count": 30,
   "id": "60582105-5beb-4681-8a9d-a084253deb8a",
   "metadata": {},
   "outputs": [
    {
     "data": {
      "text/plain": [
       "'example'"
      ]
     },
     "execution_count": 30,
     "metadata": {},
     "output_type": "execute_result"
    }
   ],
   "source": [
    "\"\"\"example\"\"\""
   ]
  },
  {
   "cell_type": "code",
   "execution_count": 32,
   "id": "59a6eedd-3d6a-4652-a4ca-01e25dc09ba4",
   "metadata": {},
   "outputs": [
    {
     "name": "stdout",
     "output_type": "stream",
     "text": [
      "this will bi executed once your try will executed without error\n"
     ]
    }
   ],
   "source": [
    "try :\n",
    "    f=open(\"test.txt\",\"w\")\n",
    "    f.write(\"write into my file \")\n",
    "    f.close()\n",
    "except Exception as e :\n",
    "    print(\"this is my except block\" , e)\n",
    "    \n",
    "else:\n",
    "    f.close()\n",
    "    print(\"this will bi executed once your try will executed without error\")\n",
    "    "
   ]
  },
  {
   "cell_type": "code",
   "execution_count": 33,
   "id": "ace9ab93-57f3-4ce8-bfce-b26b7607b63d",
   "metadata": {},
   "outputs": [],
   "source": [
    "finally_=\"finally will always excecute either else will  execute are not\""
   ]
  },
  {
   "cell_type": "code",
   "execution_count": 34,
   "id": "d75db2f0-19b2-4808-846b-16b49d4e37a9",
   "metadata": {},
   "outputs": [
    {
     "data": {
      "text/plain": [
       "'finally will always excecute either else will  execute are not'"
      ]
     },
     "execution_count": 34,
     "metadata": {},
     "output_type": "execute_result"
    }
   ],
   "source": [
    "finally_"
   ]
  },
  {
   "cell_type": "code",
   "execution_count": 45,
   "id": "33ada622-58f3-4c23-9c04-0d2b3d2c5b58",
   "metadata": {},
   "outputs": [
    {
     "name": "stdout",
     "output_type": "stream",
     "text": [
      "finally will execute always\n"
     ]
    },
    {
     "ename": "ZeroDivisionError",
     "evalue": "division by zero",
     "output_type": "error",
     "traceback": [
      "\u001b[0;31m---------------------------------------------------------------------------\u001b[0m",
      "\u001b[0;31mZeroDivisionError\u001b[0m                         Traceback (most recent call last)",
      "Cell \u001b[0;32mIn[45], line 2\u001b[0m\n\u001b[1;32m      1\u001b[0m \u001b[38;5;28;01mtry\u001b[39;00m:\n\u001b[0;32m----> 2\u001b[0m     \u001b[38;5;241;43m10\u001b[39;49m\u001b[38;5;241;43m/\u001b[39;49m\u001b[38;5;241;43m0\u001b[39;49m\n\u001b[1;32m      3\u001b[0m \u001b[38;5;66;03m# error division by zero\u001b[39;00m\n\u001b[1;32m      4\u001b[0m \u001b[38;5;28;01mfinally\u001b[39;00m:\n\u001b[1;32m      5\u001b[0m     \u001b[38;5;28mprint\u001b[39m(\u001b[38;5;124m\"\u001b[39m\u001b[38;5;124mfinally will execute always\u001b[39m\u001b[38;5;124m\"\u001b[39m)\n",
      "\u001b[0;31mZeroDivisionError\u001b[0m: division by zero"
     ]
    }
   ],
   "source": [
    "try:\n",
    "    10/0\n",
    "# error division by zero\n",
    "finally:\n",
    "    print(\"finally will execute always\")"
   ]
  },
  {
   "cell_type": "code",
   "execution_count": 37,
   "id": "8a547a64-1a48-450f-a755-7317b3b7aaba",
   "metadata": {},
   "outputs": [],
   "source": [
    "raise_=\"In Python, the raise statement is used to deliberately raise exceptions or errors in your code.\""
   ]
  },
  {
   "cell_type": "code",
   "execution_count": 46,
   "id": "6baa2f8b-c0aa-4996-ba68-06c897f39f6d",
   "metadata": {},
   "outputs": [
    {
     "data": {
      "text/plain": [
       "' Q5. what are custome Exception in python ? why do we need cutome exception in python? Explain with example.'"
      ]
     },
     "execution_count": 46,
     "metadata": {},
     "output_type": "execute_result"
    }
   ],
   "source": [
    "\"\"\" Q5. what are custome Exception in python ? why do we need cutome exception in python? Explain with example.\"\"\""
   ]
  },
  {
   "cell_type": "code",
   "execution_count": 47,
   "id": "cf0e0a1d-32ce-4e09-a812-f2ae4296e370",
   "metadata": {},
   "outputs": [],
   "source": [
    "custome=\" custome are used to define. that the programe execute successfully but there is an some error that user can't see\" "
   ]
  },
  {
   "cell_type": "code",
   "execution_count": 48,
   "id": "ecd68fb9-8a51-492b-b483-164cfaef2f5a",
   "metadata": {},
   "outputs": [
    {
     "data": {
      "text/plain": [
       "\" custome are used to define. that the programe execute successfully but there is an some error that user can't see\""
      ]
     },
     "execution_count": 48,
     "metadata": {},
     "output_type": "execute_result"
    }
   ],
   "source": [
    "custome"
   ]
  },
  {
   "cell_type": "code",
   "execution_count": 58,
   "id": "bc06a829-5bf4-4622-b972-1fbaa3d49cab",
   "metadata": {},
   "outputs": [],
   "source": [
    "example=\" lets suppose we are taking an student age detail  and there is some rule that age naver be less than 0 and age never be greater than 200,at this situation we use custome\""
   ]
  },
  {
   "cell_type": "code",
   "execution_count": 59,
   "id": "d31abfbc-7fe9-47cc-bb3e-af67f1d708b3",
   "metadata": {},
   "outputs": [
    {
     "data": {
      "text/plain": [
       "' lets suppose we are taking an student age detail  and there is some rule that age naver be less than 0 and age never be greater than 200,at this situation we use custome'"
      ]
     },
     "execution_count": 59,
     "metadata": {},
     "output_type": "execute_result"
    }
   ],
   "source": [
    "example"
   ]
  },
  {
   "cell_type": "code",
   "execution_count": 60,
   "id": "e1b237e8-f81c-4bd4-9a7c-d0d93258409f",
   "metadata": {},
   "outputs": [],
   "source": [
    "class validatestudent(Exception):\n",
    "    \n",
    "    def __init__(self,msg):\n",
    "        self.msg=msg"
   ]
  },
  {
   "cell_type": "code",
   "execution_count": 61,
   "id": "7826b592-0f4c-4d57-adfe-7c84332433a2",
   "metadata": {},
   "outputs": [],
   "source": [
    "def validaetage(age):\n",
    "    if age < 0:\n",
    "        raise validateage(\"Enter age is negative \")\n",
    "        \n",
    "    elif age > 200:\n",
    "        raise validateage(\"Enter age is very high \")\n",
    "    \n",
    "    else:\n",
    "        print(\"age is valid \")"
   ]
  },
  {
   "cell_type": "code",
   "execution_count": 62,
   "id": "24748470-c6d0-41f6-9112-5aeedf8550f1",
   "metadata": {},
   "outputs": [
    {
     "name": "stdin",
     "output_type": "stream",
     "text": [
      "Enter your age  120\n"
     ]
    },
    {
     "name": "stdout",
     "output_type": "stream",
     "text": [
      "age is valid \n"
     ]
    }
   ],
   "source": [
    "try :\n",
    "    age=int(input(\"Enter your age \"))\n",
    "    validaetage(age)\n",
    "    \n",
    "except validateage as e:\n",
    "    print(e)"
   ]
  },
  {
   "cell_type": "code",
   "execution_count": 63,
   "id": "f097add2-1e96-4f4d-973f-7c6af1df0799",
   "metadata": {},
   "outputs": [
    {
     "data": {
      "text/plain": [
       "' Q6.Create a custome exception class . use this class to handle an exception '"
      ]
     },
     "execution_count": 63,
     "metadata": {},
     "output_type": "execute_result"
    }
   ],
   "source": [
    "\"\"\" Q6.Create a custome exception class . use this class to handle an exception \"\"\""
   ]
  },
  {
   "cell_type": "code",
   "execution_count": 64,
   "id": "4f0a1e1c-1bfa-4ac4-bcfe-82a2ad9a4d28",
   "metadata": {},
   "outputs": [],
   "source": [
    "class validateage(Exception):\n",
    "    \n",
    "    def __init__(self,msg):\n",
    "        self.msg=msg"
   ]
  },
  {
   "cell_type": "code",
   "execution_count": 65,
   "id": "6962562e-e103-4db0-be2a-ec7503ad953b",
   "metadata": {},
   "outputs": [],
   "source": [
    "def validaetage(age):\n",
    "    if age < 0:\n",
    "        raise validateage(\"Enter age is negative \")\n",
    "        \n",
    "    elif age > 200:\n",
    "        raise validateage(\"Enter age is very high \")\n",
    "    \n",
    "    else:\n",
    "        print(\"age is valid \")"
   ]
  },
  {
   "cell_type": "code",
   "execution_count": 66,
   "id": "181eae0d-0b28-44a4-aa1d-372e8dbdc00a",
   "metadata": {},
   "outputs": [
    {
     "name": "stdin",
     "output_type": "stream",
     "text": [
      "Enter your age  300\n"
     ]
    },
    {
     "name": "stdout",
     "output_type": "stream",
     "text": [
      "Enter age is very high \n"
     ]
    }
   ],
   "source": [
    "try :\n",
    "    age=int(input(\"Enter your age \"))\n",
    "    validaetage(age)\n",
    "    \n",
    "except validateage as e:\n",
    "    print(e)"
   ]
  },
  {
   "cell_type": "code",
   "execution_count": null,
   "id": "19b5c2b3-950d-481c-967e-bf6bcf0d7ce2",
   "metadata": {},
   "outputs": [],
   "source": []
  }
 ],
 "metadata": {
  "kernelspec": {
   "display_name": "Python 3 (ipykernel)",
   "language": "python",
   "name": "python3"
  },
  "language_info": {
   "codemirror_mode": {
    "name": "ipython",
    "version": 3
   },
   "file_extension": ".py",
   "mimetype": "text/x-python",
   "name": "python",
   "nbconvert_exporter": "python",
   "pygments_lexer": "ipython3",
   "version": "3.10.8"
  }
 },
 "nbformat": 4,
 "nbformat_minor": 5
}
